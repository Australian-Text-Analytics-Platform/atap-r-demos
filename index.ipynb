{
 "cells": [
  {
   "cell_type": "markdown",
   "id": "737da38b",
   "metadata": {},
   "source": [
    "# atap-r-demos\n",
    "\n",
    "Current version: [v0.0.0](https://github.com/Australian-Text-Analytics-Platform/atap-r-demos/releases/tag/v0.0.0)\n",
    "\n",
    "Demo notebooks for ATAP \n",
    "\n",
    "## Notebook topics\n",
    "\n",
    "You can launch these notebooks directly on Binder\n",
    "\n",
    "* [Webcrawling](https://mybinder.org/v2/gh/Australian-Text-Analytics-Platform/atap-r-demos/master/?urlpath=lab/tree/notebooks/webcrawling.ipynb) – Intro to webcrawling in R\n",
    "\n",
    "\n",
    "\n"
   ]
  }
 ],
 "metadata": {
  "jupytext": {
   "cell_metadata_filter": "-all"
  },
  "kernelspec": {
   "display_name": "Python 3 (ipykernel)",
   "language": "python",
   "name": "python3"
  }
 },
 "nbformat": 4,
 "nbformat_minor": 5
}
